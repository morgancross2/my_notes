{
 "cells": [
  {
   "cell_type": "markdown",
   "id": "8a5a9542-0442-468a-9a5f-d19811afd59f",
   "metadata": {
    "tags": []
   },
   "source": [
    "## Python"
   ]
  },
  {
   "cell_type": "code",
   "execution_count": 168,
   "id": "36f3e1ac",
   "metadata": {},
   "outputs": [],
   "source": [
    "fruits = ['mango', 'kiwi', 'strawberry', 'guava', 'pineapple', 'mandarin orange']\n",
    "numbers = [2, 3, 4, 5, 6, 7, 8, 9, 10, 11, 13, 17, 19, 23, 256, -8, -4, -2, 5, -9]"
   ]
  },
  {
   "cell_type": "code",
   "execution_count": 169,
   "id": "be5e4df0",
   "metadata": {},
   "outputs": [],
   "source": [
    "# Example for loop solution to add 1 to each number in the list\n",
    "numbers_plus_one = []\n",
    "for number in numbers:\n",
    "    numbers_plus_one.append(number + 1)\n",
    "\n",
    "# Example of using a list comprehension to create a list of the numbers plus one.\n",
    "numbers_plus_one = [number + 1 for number in numbers]\n",
    "\n",
    "# Example code that creates a list of all of the list of strings in fruits and uppercases every string\n",
    "output = []\n",
    "for fruit in fruits:\n",
    "    output.append(fruit.upper())"
   ]
  },
  {
   "cell_type": "code",
   "execution_count": 170,
   "id": "e9eb34e2",
   "metadata": {},
   "outputs": [
    {
     "name": "stdout",
     "output_type": "stream",
     "text": [
      "['mango', 'kiwi', 'strawberry', 'guava', 'pineapple', 'mandarin orange']\n",
      "['MANGO', 'KIWI', 'STRAWBERRY', 'GUAVA', 'PINEAPPLE', 'MANDARIN ORANGE']\n"
     ]
    }
   ],
   "source": [
    "# Exercise 1 - rewrite the above example code using list comprehension syntax. Make a variable named \n",
    "# uppercased_fruits to hold the output of the list comprehension. Output should be ['MANGO', 'KIWI', etc...]\n",
    "uppercased_fruits = []\n",
    "for spot in fruits:\n",
    "    uppercased_fruits.append(spot.upper())\n",
    "    \n",
    "print(fruits)\n",
    "print(uppercased_fruits)"
   ]
  },
  {
   "cell_type": "code",
   "execution_count": 171,
   "id": "5d046bd3",
   "metadata": {},
   "outputs": [
    {
     "name": "stdout",
     "output_type": "stream",
     "text": [
      "['Mango', 'Kiwi', 'Strawberry', 'Guava', 'Pineapple', 'Mandarin orange']\n"
     ]
    }
   ],
   "source": [
    "# Exercise 2 - create a variable named capitalized_fruits and use list comprehension syntax to produce output like \n",
    "# ['Mango', 'Kiwi', 'Strawberry', etc...]\n",
    "capitalized_fruits = []\n",
    "for spot in fruits:\n",
    "    capitalized_fruits.append(spot[0].upper() + spot[1:])\n",
    "print(capitalized_fruits)"
   ]
  },
  {
   "cell_type": "code",
   "execution_count": 172,
   "id": "3f4a6ebb",
   "metadata": {},
   "outputs": [
    {
     "name": "stdout",
     "output_type": "stream",
     "text": [
      "3\n",
      "['guava', 'pineapple', 'mandarin orange']\n"
     ]
    }
   ],
   "source": [
    "# Exercise 3 - Use a list comprehension to make a variable named fruits_with_more_than_two_vowels. Hint: You'll need \n",
    "# a way to check if something is a vowel.\n",
    "\n",
    "fruits_with_more_than_two_vowels = []\n",
    "for fruit in fruits:\n",
    "    count = 0\n",
    "    for letter in fruit:\n",
    "        if letter == 'a' or letter == 'e' or letter == 'i' or letter == 'o' or letter == 'u':\n",
    "            count += 1\n",
    "    if count > 2:\n",
    "        fruits_with_more_than_two_vowels.append(fruit)\n",
    "        \n",
    "print(len(fruits_with_more_than_two_vowels))\n",
    "print(fruits_with_more_than_two_vowels)"
   ]
  },
  {
   "cell_type": "code",
   "execution_count": 173,
   "id": "761802af",
   "metadata": {},
   "outputs": [
    {
     "name": "stdout",
     "output_type": "stream",
     "text": [
      "['mango', 'kiwi', 'strawberry']\n"
     ]
    }
   ],
   "source": [
    "# Exercise 4 - make a variable named fruits_with_only_two_vowels. The result should be ['mango', 'kiwi', 'strawberry']\n",
    "\n",
    "fruits_with_only_two_vowels = []\n",
    "\n",
    "for fruit in fruits:\n",
    "    count = 0\n",
    "    for letter in fruit:\n",
    "        if letter == 'a' or letter == 'e' or letter == 'i' or letter == 'o' or letter == 'u':\n",
    "            count += 1\n",
    "    if count == 2:\n",
    "        fruits_with_only_two_vowels.append(fruit)\n",
    "        \n",
    "print(fruits_with_only_two_vowels)\n"
   ]
  },
  {
   "cell_type": "code",
   "execution_count": 174,
   "id": "381bd0c5",
   "metadata": {},
   "outputs": [
    {
     "name": "stdout",
     "output_type": "stream",
     "text": [
      "['strawberry', 'pineapple', 'mandarin orange']\n"
     ]
    }
   ],
   "source": [
    "# Exercise 5 - make a list that contains each fruit with more than 5 characters\n",
    "more_than_five_chars = []\n",
    "for fruit in fruits:\n",
    "    if len(fruit) > 5:\n",
    "        more_than_five_chars.append(fruit)\n",
    "print(more_than_five_chars)"
   ]
  },
  {
   "cell_type": "code",
   "execution_count": 175,
   "id": "650e55e2",
   "metadata": {},
   "outputs": [
    {
     "name": "stdout",
     "output_type": "stream",
     "text": [
      "['mango', 'guava']\n"
     ]
    }
   ],
   "source": [
    "# Exercise 6 - make a list that contains each fruit with exactly 5 characters\n",
    "five_chars = []\n",
    "for fruit in fruits:\n",
    "    if len(fruit) == 5:\n",
    "        five_chars.append(fruit)\n",
    "print(five_chars)"
   ]
  },
  {
   "cell_type": "code",
   "execution_count": 176,
   "id": "b1e31f0a",
   "metadata": {},
   "outputs": [
    {
     "name": "stdout",
     "output_type": "stream",
     "text": [
      "['kiwi']\n"
     ]
    }
   ],
   "source": [
    "# Exercise 7 - Make a list that contains fruits that have less than 5 characters\n",
    "less_than_five_chars = []\n",
    "for fruit in fruits:\n",
    "    if len(fruit) < 5:\n",
    "        less_than_five_chars.append(fruit)\n",
    "print(less_than_five_chars)"
   ]
  },
  {
   "cell_type": "code",
   "execution_count": 177,
   "id": "9969b562",
   "metadata": {},
   "outputs": [
    {
     "name": "stdout",
     "output_type": "stream",
     "text": [
      "[5, 4, 10, 5, 9, 15]\n"
     ]
    }
   ],
   "source": [
    "# Exercise 8 - Make a list containing the number of characters in each fruit. Output would be [5, 4, 10, etc... ]\n",
    "fruit_len = []\n",
    "for fruit in fruits:\n",
    "    fruit_len.append(len(fruit))\n",
    "                     \n",
    "print(fruit_len)"
   ]
  },
  {
   "cell_type": "code",
   "execution_count": 178,
   "id": "6633ac45",
   "metadata": {},
   "outputs": [
    {
     "name": "stdout",
     "output_type": "stream",
     "text": [
      "['mango', 'strawberry', 'guava', 'pineapple', 'mandarin orange']\n"
     ]
    }
   ],
   "source": [
    "# Exercise 9 - Make a variable named fruits_with_letter_a that contains a list of only the fruits that contain the \n",
    "# letter \"a\"\n",
    "fruits_with_letter_a = []\n",
    "for fruit in fruits:\n",
    "    count = 0\n",
    "    for letter in fruit:\n",
    "        if letter == 'a':\n",
    "            count += 1\n",
    "    if count > 0:\n",
    "        fruits_with_letter_a.append(fruit)\n",
    "            \n",
    "print(fruits_with_letter_a)"
   ]
  },
  {
   "cell_type": "code",
   "execution_count": 179,
   "id": "83ae9228",
   "metadata": {},
   "outputs": [
    {
     "name": "stdout",
     "output_type": "stream",
     "text": [
      "[2, 4, 6, 8, 10, 256, -8, -4, -2]\n"
     ]
    }
   ],
   "source": [
    "# Exercise 10 - Make a variable named even_numbers that holds only the even numbers \n",
    "even_numbers = []\n",
    "\n",
    "for num in numbers:\n",
    "    if num%2 == 0:\n",
    "        even_numbers.append(num)\n",
    "        \n",
    "print(even_numbers)"
   ]
  },
  {
   "cell_type": "code",
   "execution_count": 180,
   "id": "a9cdc515",
   "metadata": {},
   "outputs": [
    {
     "name": "stdout",
     "output_type": "stream",
     "text": [
      "[3, 5, 7, 9, 11, 13, 17, 19, 23, 5, -9]\n"
     ]
    }
   ],
   "source": [
    "# Exercise 11 - Make a variable named odd_numbers that holds only the odd numbers\n",
    "odd_numbers = []\n",
    "for num in numbers:\n",
    "    if num%2 != 0:\n",
    "        odd_numbers.append(num)\n",
    "        \n",
    "print(odd_numbers)"
   ]
  },
  {
   "cell_type": "code",
   "execution_count": 181,
   "id": "12355f97",
   "metadata": {},
   "outputs": [
    {
     "name": "stdout",
     "output_type": "stream",
     "text": [
      "[2, 3, 4, 5, 6, 7, 8, 9, 10, 11, 13, 17, 19, 23, 256, 5]\n"
     ]
    }
   ],
   "source": [
    "# Exercise 12 - Make a variable named positive_numbers that holds only the positive numbers\n",
    "positive_numbers = []\n",
    "for num in numbers:\n",
    "    if num > 0:\n",
    "        positive_numbers.append(num)\n",
    "        \n",
    "print(positive_numbers)"
   ]
  },
  {
   "cell_type": "code",
   "execution_count": 182,
   "id": "f5b42224",
   "metadata": {},
   "outputs": [
    {
     "name": "stdout",
     "output_type": "stream",
     "text": [
      "[-8, -4, -2, -9]\n"
     ]
    }
   ],
   "source": [
    "# Exercise 13 - Make a variable named negative_numbers that holds only the negative numbers\n",
    "negative_numbers = []\n",
    "for num in numbers:\n",
    "    if num < 0:\n",
    "        negative_numbers.append(num)\n",
    "        \n",
    "print(negative_numbers)"
   ]
  },
  {
   "cell_type": "code",
   "execution_count": 183,
   "id": "60a66432",
   "metadata": {},
   "outputs": [
    {
     "name": "stdout",
     "output_type": "stream",
     "text": [
      "[10, 11, 13, 17, 19, 23, 256]\n"
     ]
    }
   ],
   "source": [
    "# Exercise 14 - use a list comprehension w/ a conditional in order to produce a list of numbers with 2 or more \n",
    "# numerals\n",
    "two_or_more = []\n",
    "for num in numbers:\n",
    "    if num > 9 or num < -9:\n",
    "        two_or_more.append(num)\n",
    "        \n",
    "print(two_or_more)"
   ]
  },
  {
   "cell_type": "code",
   "execution_count": 184,
   "id": "b5abbdb3",
   "metadata": {},
   "outputs": [
    {
     "name": "stdout",
     "output_type": "stream",
     "text": [
      "[4, 9, 16, 25, 36, 49, 64, 81, 100, 121, 169, 289, 361, 529, 65536, 64, 16, 4, 25, 81]\n"
     ]
    }
   ],
   "source": [
    "# Exercise 15 - Make a variable named numbers_squared that contains the numbers list with each element squared. \n",
    "# Output is [4, 9, 16, etc...]\n",
    "numbers_squared = []\n",
    "for num in numbers:\n",
    "    numbers_squared.append(num*num)\n",
    "\n",
    "print(numbers_squared)"
   ]
  },
  {
   "cell_type": "code",
   "execution_count": 185,
   "id": "451c03c5",
   "metadata": {},
   "outputs": [
    {
     "name": "stdout",
     "output_type": "stream",
     "text": [
      "[-9]\n"
     ]
    }
   ],
   "source": [
    "# Exercise 16 - Make a variable named odd_negative_numbers that contains only the numbers that are both odd and \n",
    "# negative.\n",
    "odd_negative_numbers = []\n",
    "for num in numbers:\n",
    "    if num%2 != 0 and num < 0:\n",
    "        odd_negative_numbers.append(num)\n",
    "\n",
    "print(odd_negative_numbers)"
   ]
  },
  {
   "cell_type": "code",
   "execution_count": 186,
   "id": "2b46b7ec",
   "metadata": {},
   "outputs": [
    {
     "name": "stdout",
     "output_type": "stream",
     "text": [
      "[7, 8, 9, 10, 11, 12, 13, 14, 15, 16, 18, 22, 24, 28, 261, -3, 1, 3, 10, -4]\n"
     ]
    }
   ],
   "source": [
    "# Exercise 17 - Make a variable named numbers_plus_5. In it, return a list containing each number plus five. \n",
    "numbers_plus_5 = []\n",
    "for num in numbers:\n",
    "    numbers_plus_5.append(num+5)\n",
    "    \n",
    "print(numbers_plus_5)\n"
   ]
  },
  {
   "cell_type": "code",
   "execution_count": 187,
   "id": "9e387fbd",
   "metadata": {},
   "outputs": [
    {
     "name": "stdout",
     "output_type": "stream",
     "text": [
      "[2, 3, 5, 7, 11, 13, 17, 19, 23, -2, 5]\n"
     ]
    }
   ],
   "source": [
    "# BONUS Make a variable named \"primes\" that is a list containing the prime numbers in the numbers list. *Hint* you \n",
    "# may want to make or find a helper function that determines if a given number is prime or not.\n",
    "def is_prime(num):\n",
    "    for spot in range(2,abs(num)):\n",
    "        if (abs(num)%spot) == 0:\n",
    "            return False\n",
    "    return True;\n",
    "\n",
    "prime_numbers = []\n",
    "for num in numbers:\n",
    "    count = 0\n",
    "    for spot in range(2,abs(num)):\n",
    "        if (abs(num)%spot) == 0:\n",
    "            count += 1\n",
    "    if count == 0:\n",
    "        prime_numbers.append(num)\n",
    "        \n",
    "print(prime_numbers)"
   ]
  },
  {
   "cell_type": "markdown",
   "id": "7bdca45f-22d1-4c48-95d8-9be05f3caffb",
   "metadata": {
    "tags": []
   },
   "source": [
    "## List Comprehensions"
   ]
  },
  {
   "cell_type": "code",
   "execution_count": 188,
   "id": "9e408b1a-6df8-4c6e-b7a9-3e8eb0180cff",
   "metadata": {},
   "outputs": [],
   "source": [
    "fruits = ['mango', 'kiwi', 'strawberry', 'guava', 'pineapple', 'mandarin orange']"
   ]
  },
  {
   "cell_type": "code",
   "execution_count": 189,
   "id": "9ff804c4-04c1-494e-a324-03c3514dfc31",
   "metadata": {},
   "outputs": [],
   "source": [
    "numbers = [2, 3, 4, 5, 6, 7, 8, 9, 10, 11, 13, 17, 19, 23, 256, -8, -4, -2, 5, -9]"
   ]
  },
  {
   "cell_type": "code",
   "execution_count": 190,
   "id": "ef4d4b47-db5b-4db5-9089-919c1c05b100",
   "metadata": {},
   "outputs": [],
   "source": [
    "# Example for loop solution to add 1 to each number in the list\n",
    "numbers_plus_one = []\n",
    "for number in numbers:\n",
    "    numbers_plus_one.append(number + 1)"
   ]
  },
  {
   "cell_type": "code",
   "execution_count": 191,
   "id": "9f0e4356-4ae9-4b0b-a0cd-b462ba814be9",
   "metadata": {},
   "outputs": [],
   "source": [
    "# Example of using a list comprehension to create a list of the numbers plus one.\n",
    "numbers_plus_one = [number + 1 for number in numbers]"
   ]
  },
  {
   "cell_type": "code",
   "execution_count": 192,
   "id": "fe15a172-a5c4-40f0-8c44-07b2ceb22929",
   "metadata": {},
   "outputs": [],
   "source": [
    "# Example code that creates a list of all of the list of strings in fruits and uppercases every string\n",
    "output = []\n",
    "for fruit in fruits:\n",
    "    output.append(fruit.upper())"
   ]
  },
  {
   "cell_type": "markdown",
   "id": "ad24d3fe-13e5-4746-a071-a8e70e57fed8",
   "metadata": {
    "tags": []
   },
   "source": [
    "##### Exercise 1 - rewrite the above example code using list comprehension syntax. Make a variable named uppercased_fruits to hold the output of the list comprehension. Output should be ['MANGO', 'KIWI', etc...]"
   ]
  },
  {
   "cell_type": "code",
   "execution_count": 193,
   "id": "d90f8f0b-5f60-490a-b95e-71539655de20",
   "metadata": {},
   "outputs": [
    {
     "data": {
      "text/plain": [
       "['MANGO', 'KIWI', 'STRAWBERRY', 'GUAVA', 'PINEAPPLE', 'MANDARIN ORANGE']"
      ]
     },
     "execution_count": 193,
     "metadata": {},
     "output_type": "execute_result"
    }
   ],
   "source": [
    "uppercased_fruits = [fruit.upper() for fruit in fruits]\n",
    "uppercased_fruits"
   ]
  },
  {
   "cell_type": "markdown",
   "id": "8db3713f-fdc8-497c-9613-b53c0f6b7e58",
   "metadata": {},
   "source": [
    "##### Exercise 2 - create a variable named capitalized_fruits and use list comprehension syntax to produce output like ['Mango', 'Kiwi', 'Strawberry', etc...]"
   ]
  },
  {
   "cell_type": "code",
   "execution_count": 194,
   "id": "05714947-76cb-49aa-b08b-0e1d8a7bf2b2",
   "metadata": {},
   "outputs": [
    {
     "data": {
      "text/plain": [
       "['Mango', 'Kiwi', 'Strawberry', 'Guava', 'Pineapple', 'Mandarin orange']"
      ]
     },
     "execution_count": 194,
     "metadata": {},
     "output_type": "execute_result"
    }
   ],
   "source": [
    "capitalized_fruits = [fruit[0].upper()+fruit[1:] for fruit in fruits]\n",
    "capitalized_fruits"
   ]
  },
  {
   "cell_type": "markdown",
   "id": "c2cd5e06-9768-40ca-9161-e4e6904ca435",
   "metadata": {},
   "source": [
    "##### Exercise 3 - Use a list comprehension to make a variable named fruits_with_more_than_two_vowels. Hint: You'll need a way to check if something is a vowel."
   ]
  },
  {
   "cell_type": "code",
   "execution_count": 195,
   "id": "c40fb503-c8e4-4ec8-a24a-85712ea058bf",
   "metadata": {},
   "outputs": [
    {
     "data": {
      "text/plain": [
       "['guava', 'pineapple', 'mandarin orange']"
      ]
     },
     "execution_count": 195,
     "metadata": {},
     "output_type": "execute_result"
    }
   ],
   "source": [
    "fruits_with_more_than_two_vowels = [fruit for fruit in fruits if (fruit.count('a')+fruit.count('e')+fruit.count('i')+fruit.count('o')+fruit.count('u')) > 2]\n",
    "fruits_with_more_than_two_vowels"
   ]
  },
  {
   "cell_type": "markdown",
   "id": "af30dc3d-4b6a-4165-a568-5c85bf70509c",
   "metadata": {},
   "source": [
    "##### Exercise 4 - make a variable named fruits_with_only_two_vowels. The result should be ['mango', 'kiwi', 'strawberry']"
   ]
  },
  {
   "cell_type": "code",
   "execution_count": 196,
   "id": "f692bea9-d84f-499e-b2a5-68233615dde4",
   "metadata": {},
   "outputs": [
    {
     "data": {
      "text/plain": [
       "['mango', 'kiwi', 'strawberry']"
      ]
     },
     "execution_count": 196,
     "metadata": {},
     "output_type": "execute_result"
    }
   ],
   "source": [
    "fruits_with_only_two_vowels = [fruit for fruit in fruits if (fruit.count('a')+fruit.count('e')+fruit.count('i')+fruit.count('o')+fruit.count('u')) == 2]\n",
    "fruits_with_only_two_vowels"
   ]
  },
  {
   "cell_type": "markdown",
   "id": "763070e8-e51c-4e23-981e-3b8edae2815f",
   "metadata": {},
   "source": [
    "##### Exercise 5 - make a list that contains each fruit with more than 5 characters"
   ]
  },
  {
   "cell_type": "code",
   "execution_count": 197,
   "id": "f6860b04-f8ec-49cb-b58a-613a1f8aace8",
   "metadata": {},
   "outputs": [
    {
     "data": {
      "text/plain": [
       "['strawberry', 'pineapple', 'mandarin orange']"
      ]
     },
     "execution_count": 197,
     "metadata": {},
     "output_type": "execute_result"
    }
   ],
   "source": [
    "five_plus_chars = [fruit for fruit in fruits if len(fruit) > 5]\n",
    "five_plus_chars"
   ]
  },
  {
   "cell_type": "markdown",
   "id": "63131d6c-49d1-44ae-bcc1-3a7a5a7fe37b",
   "metadata": {},
   "source": [
    "##### Exercise 6 - make a list that contains each fruit with exactly 5 characters"
   ]
  },
  {
   "cell_type": "code",
   "execution_count": 198,
   "id": "0dd5dbbe-64ac-4cbc-b7e9-970669784f81",
   "metadata": {},
   "outputs": [
    {
     "data": {
      "text/plain": [
       "['mango', 'guava']"
      ]
     },
     "execution_count": 198,
     "metadata": {},
     "output_type": "execute_result"
    }
   ],
   "source": [
    "five_chars = [fruit for fruit in fruits if len(fruit) == 5]\n",
    "five_chars"
   ]
  },
  {
   "cell_type": "markdown",
   "id": "e89d8f73-fb46-4705-82c4-d174cf3cc0d9",
   "metadata": {},
   "source": [
    "##### Exercise 7 - Make a list that contains fruits that have less than 5 characters"
   ]
  },
  {
   "cell_type": "code",
   "execution_count": 199,
   "id": "d7ce3c96-975e-4572-983b-25dc1de14a10",
   "metadata": {},
   "outputs": [
    {
     "data": {
      "text/plain": [
       "['kiwi']"
      ]
     },
     "execution_count": 199,
     "metadata": {},
     "output_type": "execute_result"
    }
   ],
   "source": [
    "five_less_chars = [fruit for fruit in fruits if len(fruit) < 5]\n",
    "five_less_chars"
   ]
  },
  {
   "cell_type": "markdown",
   "id": "438ebfe8-6857-486b-9d50-a10c5ee0ccf5",
   "metadata": {},
   "source": [
    "##### Exercise 8 - Make a list containing the number of characters in each fruit. Output would be [5, 4, 10, etc... ]"
   ]
  },
  {
   "cell_type": "code",
   "execution_count": 200,
   "id": "ec0218b5-b511-46ff-a7a6-dc1a54847aa8",
   "metadata": {},
   "outputs": [
    {
     "data": {
      "text/plain": [
       "[5, 4, 10, 5, 9, 15]"
      ]
     },
     "execution_count": 200,
     "metadata": {},
     "output_type": "execute_result"
    }
   ],
   "source": [
    "num_chars = [len(fruit) for fruit in fruits]\n",
    "num_chars"
   ]
  },
  {
   "cell_type": "markdown",
   "id": "db2546f7-643a-4143-9255-ba4bbcd322b9",
   "metadata": {},
   "source": [
    "##### Exercise 9 - Make a variable named fruits_with_letter_a that contains a list of only the fruits that contain the letter \"a\""
   ]
  },
  {
   "cell_type": "code",
   "execution_count": 201,
   "id": "8956510a-ff04-436f-ac90-c01d0e83f9c9",
   "metadata": {},
   "outputs": [
    {
     "data": {
      "text/plain": [
       "['mango', 'strawberry', 'guava', 'pineapple', 'mandarin orange']"
      ]
     },
     "execution_count": 201,
     "metadata": {},
     "output_type": "execute_result"
    }
   ],
   "source": [
    "fruits_with_letter_a = [fruit for fruit in fruits if 'a' in fruit]\n",
    "fruits_with_letter_a"
   ]
  },
  {
   "cell_type": "markdown",
   "id": "0319fb19-7f60-42dd-8c91-0640202eeef4",
   "metadata": {},
   "source": [
    "##### Exercise 10 - Make a variable named even_numbers that holds only the even numbers "
   ]
  },
  {
   "cell_type": "code",
   "execution_count": 202,
   "id": "958697fe-5080-406f-be5f-c3edd47f372a",
   "metadata": {},
   "outputs": [
    {
     "data": {
      "text/plain": [
       "[2, 4, 6, 8, 10, 256, -8, -4, -2]"
      ]
     },
     "execution_count": 202,
     "metadata": {},
     "output_type": "execute_result"
    }
   ],
   "source": [
    "even_numbers = [num for num in numbers if num%2 == 0]\n",
    "even_numbers"
   ]
  },
  {
   "cell_type": "markdown",
   "id": "65d8aee2-7744-498b-9c5e-afb74f757cee",
   "metadata": {},
   "source": [
    "##### Exercise 11 - Make a variable named odd_numbers that holds only the odd numbers"
   ]
  },
  {
   "cell_type": "code",
   "execution_count": 203,
   "id": "482485be-57f1-43e0-855b-0e3a582f42c4",
   "metadata": {},
   "outputs": [
    {
     "data": {
      "text/plain": [
       "[3, 5, 7, 9, 11, 13, 17, 19, 23, 5, -9]"
      ]
     },
     "execution_count": 203,
     "metadata": {},
     "output_type": "execute_result"
    }
   ],
   "source": [
    "odd_numbers = [num for num in numbers if num%2 == 1]\n",
    "odd_numbers"
   ]
  },
  {
   "cell_type": "markdown",
   "id": "41fc736e-4689-49a9-b3b9-3ccf784b13be",
   "metadata": {},
   "source": [
    "##### Exercise 12 - Make a variable named positive_numbers that holds only the positive numbers"
   ]
  },
  {
   "cell_type": "code",
   "execution_count": 204,
   "id": "56fc130b-0dc4-4d70-a85e-0641d1497eeb",
   "metadata": {},
   "outputs": [
    {
     "data": {
      "text/plain": [
       "[2, 3, 4, 5, 6, 7, 8, 9, 10, 11, 13, 17, 19, 23, 256, 5]"
      ]
     },
     "execution_count": 204,
     "metadata": {},
     "output_type": "execute_result"
    }
   ],
   "source": [
    "positive_numbers = [num for num in numbers if num > 0]\n",
    "positive_numbers"
   ]
  },
  {
   "cell_type": "markdown",
   "id": "5b81c7ef-7130-47f3-9aee-c6a8d1f14e92",
   "metadata": {},
   "source": [
    "##### Exercise 13 - Make a variable named negative_numbers that holds only the negative numbers"
   ]
  },
  {
   "cell_type": "code",
   "execution_count": 205,
   "id": "9f4b366b-d235-4066-9fc4-b5ab11f70713",
   "metadata": {},
   "outputs": [
    {
     "data": {
      "text/plain": [
       "[-8, -4, -2, -9]"
      ]
     },
     "execution_count": 205,
     "metadata": {},
     "output_type": "execute_result"
    }
   ],
   "source": [
    "negative_numbers = [num for num in numbers if num < 0]\n",
    "negative_numbers"
   ]
  },
  {
   "cell_type": "markdown",
   "id": "68e6ebd4-b0f8-45ae-ac6d-55b7d1791407",
   "metadata": {},
   "source": [
    "##### Exercise 14 - use a list comprehension w/ a conditional in order to produce a list of numbers with 2 or more numerals"
   ]
  },
  {
   "cell_type": "code",
   "execution_count": 206,
   "id": "cbf4566a-bca2-440b-84f8-991762589b75",
   "metadata": {},
   "outputs": [
    {
     "data": {
      "text/plain": [
       "[10, 11, 13, 17, 19, 23, 256]"
      ]
     },
     "execution_count": 206,
     "metadata": {},
     "output_type": "execute_result"
    }
   ],
   "source": [
    "two_or_more_digits = [num for num in numbers if num >= 10 or num <= -10]\n",
    "two_or_more_digits"
   ]
  },
  {
   "cell_type": "markdown",
   "id": "525e90c8-77b8-4d86-8488-425a2cd14472",
   "metadata": {},
   "source": [
    "##### Exercise 15 - Make a variable named numbers_squared that contains the numbers list with each element squared. Output is [4, 9, 16, etc...]"
   ]
  },
  {
   "cell_type": "code",
   "execution_count": 207,
   "id": "ff95b468-240b-4d2c-bfdd-664e81042500",
   "metadata": {},
   "outputs": [
    {
     "data": {
      "text/plain": [
       "[4,\n",
       " 9,\n",
       " 16,\n",
       " 25,\n",
       " 36,\n",
       " 49,\n",
       " 64,\n",
       " 81,\n",
       " 100,\n",
       " 121,\n",
       " 169,\n",
       " 289,\n",
       " 361,\n",
       " 529,\n",
       " 65536,\n",
       " 64,\n",
       " 16,\n",
       " 4,\n",
       " 25,\n",
       " 81]"
      ]
     },
     "execution_count": 207,
     "metadata": {},
     "output_type": "execute_result"
    }
   ],
   "source": [
    "numbers_squared = [num**2 for num in numbers]\n",
    "numbers_squared"
   ]
  },
  {
   "cell_type": "markdown",
   "id": "7cfc1035-3886-4cf2-8f9b-2c9b4ff42037",
   "metadata": {},
   "source": [
    "##### Exercise 16 - Make a variable named odd_negative_numbers that contains only the numbers that are both odd and negative."
   ]
  },
  {
   "cell_type": "code",
   "execution_count": 208,
   "id": "a1b8ae05-c46b-4eb1-aa93-659baa2e2614",
   "metadata": {},
   "outputs": [
    {
     "data": {
      "text/plain": [
       "[-9]"
      ]
     },
     "execution_count": 208,
     "metadata": {},
     "output_type": "execute_result"
    }
   ],
   "source": [
    "odd_negative_numbers = [num for num in numbers if num%2 == 1 and num < 0]\n",
    "odd_negative_numbers"
   ]
  },
  {
   "cell_type": "markdown",
   "id": "4557ec2b-14e3-4f20-8586-f28a183faef0",
   "metadata": {},
   "source": [
    "##### Exercise 17 - Make a variable named numbers_plus_5. In it, return a list containing each number plus five. "
   ]
  },
  {
   "cell_type": "code",
   "execution_count": 209,
   "id": "ffe60388-2e91-40e7-8f32-09c08e25123f",
   "metadata": {},
   "outputs": [
    {
     "data": {
      "text/plain": [
       "[7, 8, 9, 10, 11, 12, 13, 14, 15, 16, 18, 22, 24, 28, 261, -3, 1, 3, 10, -4]"
      ]
     },
     "execution_count": 209,
     "metadata": {},
     "output_type": "execute_result"
    }
   ],
   "source": [
    "numbers_plus_5 = [num+5 for num in numbers]\n",
    "numbers_plus_5"
   ]
  },
  {
   "cell_type": "markdown",
   "id": "1ce20863-bff9-47b7-9529-a332fef83cf2",
   "metadata": {
    "tags": []
   },
   "source": [
    "##### BONUS Make a variable named \"primes\" that is a list containing the prime numbers in the numbers list. *Hint* you may want to make or find a helper function that determines if a given number is prime or not."
   ]
  },
  {
   "cell_type": "code",
   "execution_count": 210,
   "id": "e64255a6-72b3-4401-bf37-48e463611ccb",
   "metadata": {},
   "outputs": [
    {
     "data": {
      "text/plain": [
       "[2, 3, 5, 7, 11, 13, 17, 19, 23, -2, 5]"
      ]
     },
     "execution_count": 210,
     "metadata": {},
     "output_type": "execute_result"
    }
   ],
   "source": [
    "primes = [num for num in numbers if is_prime(num)]\n",
    "primes"
   ]
  },
  {
   "cell_type": "markdown",
   "id": "1dccdb92-47a3-4185-8569-7e1c9504cd41",
   "metadata": {
    "tags": []
   },
   "source": [
    "## Pandas"
   ]
  },
  {
   "cell_type": "code",
   "execution_count": 211,
   "id": "bba753ab-7e37-450b-a2a5-3ffee9e00037",
   "metadata": {},
   "outputs": [],
   "source": [
    "import pandas as pd"
   ]
  },
  {
   "cell_type": "code",
   "execution_count": 212,
   "id": "5228932d-dcf5-4147-a2e9-d61988bdd2d6",
   "metadata": {},
   "outputs": [],
   "source": [
    "fruits = ['mango', 'kiwi', 'strawberry', 'guava', 'pineapple', 'mandarin orange']\n",
    "fruits = pd.Series(fruits)"
   ]
  },
  {
   "cell_type": "code",
   "execution_count": 213,
   "id": "1ffefdda-5e2a-4c47-9dc7-3500e6f5ee9f",
   "metadata": {},
   "outputs": [],
   "source": [
    "numbers = [2, 3, 4, 5, 6, 7, 8, 9, 10, 11, 13, 17, 19, 23, 256, -8, -4, -2, 5, -9]\n",
    "numbers = pd.Series(numbers)"
   ]
  },
  {
   "cell_type": "code",
   "execution_count": 214,
   "id": "e5a7d41b-13ba-4ff0-95ae-da35f615f808",
   "metadata": {},
   "outputs": [],
   "source": [
    "# Example for loop solution to add 1 to each number in the list\n",
    "numbers_plus_one = []\n",
    "for number in numbers:\n",
    "    numbers_plus_one.append(number + 1)"
   ]
  },
  {
   "cell_type": "code",
   "execution_count": 215,
   "id": "8385c062-03e9-477d-8078-c995f4d38a62",
   "metadata": {},
   "outputs": [],
   "source": [
    "# Example of using a list comprehension to create a list of the numbers plus one.\n",
    "numbers_plus_one = [number + 1 for number in numbers]"
   ]
  },
  {
   "cell_type": "code",
   "execution_count": 216,
   "id": "cb25eb81-487e-401f-ac30-90cd662c02ef",
   "metadata": {},
   "outputs": [],
   "source": [
    "# Example code that creates a list of all of the list of strings in fruits and uppercases every string\n",
    "output = []\n",
    "for fruit in fruits:\n",
    "    output.append(fruit.upper())"
   ]
  },
  {
   "cell_type": "markdown",
   "id": "7cef1109-e36f-46d2-a617-6c0818df9971",
   "metadata": {
    "tags": []
   },
   "source": [
    "##### Exercise 1 - rewrite the above example code using list comprehension syntax. Make a variable named uppercased_fruits to hold the output of the list comprehension. Output should be ['MANGO', 'KIWI', etc...]"
   ]
  },
  {
   "cell_type": "code",
   "execution_count": 217,
   "id": "df6375a6-9e89-426d-9af1-a85fc97d7f8a",
   "metadata": {},
   "outputs": [
    {
     "data": {
      "text/plain": [
       "['MANGO', 'KIWI', 'STRAWBERRY', 'GUAVA', 'PINEAPPLE', 'MANDARIN ORANGE']"
      ]
     },
     "execution_count": 217,
     "metadata": {},
     "output_type": "execute_result"
    }
   ],
   "source": [
    "uppercased_fruits = fruits.str.upper()\n",
    "uppercased_fruits.tolist()"
   ]
  },
  {
   "cell_type": "markdown",
   "id": "8fab604b-4d4e-4603-aba6-466e722cb57a",
   "metadata": {},
   "source": [
    "##### Exercise 2 - create a variable named capitalized_fruits and use list comprehension syntax to produce output like ['Mango', 'Kiwi', 'Strawberry', etc...]"
   ]
  },
  {
   "cell_type": "code",
   "execution_count": 218,
   "id": "718b9448-e4d6-4e74-8543-5a411dcfbfe8",
   "metadata": {},
   "outputs": [
    {
     "data": {
      "text/plain": [
       "['Mango', 'Kiwi', 'Strawberry', 'Guava', 'Pineapple', 'Mandarin orange']"
      ]
     },
     "execution_count": 218,
     "metadata": {},
     "output_type": "execute_result"
    }
   ],
   "source": [
    "capitalized_fruits = fruits.str.capitalize()\n",
    "capitalized_fruits.tolist()"
   ]
  },
  {
   "cell_type": "markdown",
   "id": "574f25be-72e9-4caf-8863-fe4678abfb97",
   "metadata": {},
   "source": [
    "##### Exercise 3 - Use a list comprehension to make a variable named fruits_with_more_than_two_vowels. Hint: You'll need a way to check if something is a vowel."
   ]
  },
  {
   "cell_type": "code",
   "execution_count": 219,
   "id": "0608ae81-5fe7-43c7-899c-046248af3513",
   "metadata": {},
   "outputs": [
    {
     "data": {
      "text/plain": [
       "['guava', 'pineapple', 'mandarin orange']"
      ]
     },
     "execution_count": 219,
     "metadata": {},
     "output_type": "execute_result"
    }
   ],
   "source": [
    "fruits_with_more_than_two_vowels = fruits[fruits.str.count(r'[aeiou]') >2]\n",
    "fruits_with_more_than_two_vowels.tolist()"
   ]
  },
  {
   "cell_type": "markdown",
   "id": "30187c15-7058-4037-8687-303144529865",
   "metadata": {},
   "source": [
    "##### Exercise 4 - make a variable named fruits_with_only_two_vowels. The result should be ['mango', 'kiwi', 'strawberry']"
   ]
  },
  {
   "cell_type": "code",
   "execution_count": 220,
   "id": "7324cc27-3873-43e4-b3d2-edb11e680554",
   "metadata": {},
   "outputs": [
    {
     "data": {
      "text/plain": [
       "['mango', 'kiwi', 'strawberry']"
      ]
     },
     "execution_count": 220,
     "metadata": {},
     "output_type": "execute_result"
    }
   ],
   "source": [
    "fruits[fruits.str.count(r'[aeiou]') == 2].tolist()"
   ]
  },
  {
   "cell_type": "markdown",
   "id": "26fe22e7-6277-4917-a822-a6e24796f2eb",
   "metadata": {},
   "source": [
    "##### Exercise 5 - make a list that contains each fruit with more than 5 characters"
   ]
  },
  {
   "cell_type": "code",
   "execution_count": 221,
   "id": "ae6ce003-e7de-4292-a774-de52cd0d1f57",
   "metadata": {},
   "outputs": [
    {
     "data": {
      "text/plain": [
       "['strawberry', 'pineapple', 'mandarin orange']"
      ]
     },
     "execution_count": 221,
     "metadata": {},
     "output_type": "execute_result"
    }
   ],
   "source": [
    "fruits[fruits.str.len() > 5].tolist()"
   ]
  },
  {
   "cell_type": "markdown",
   "id": "839bcdd7-4978-4fb6-a8e9-210534d68f82",
   "metadata": {},
   "source": [
    "##### Exercise 6 - make a list that contains each fruit with exactly 5 characters"
   ]
  },
  {
   "cell_type": "code",
   "execution_count": 222,
   "id": "ba0b0df2-b1bc-42c1-b143-059647db54d0",
   "metadata": {},
   "outputs": [
    {
     "data": {
      "text/plain": [
       "['mango', 'guava']"
      ]
     },
     "execution_count": 222,
     "metadata": {},
     "output_type": "execute_result"
    }
   ],
   "source": [
    "fruits[fruits.str.len() == 5].tolist()"
   ]
  },
  {
   "cell_type": "markdown",
   "id": "4b7e8143-2a45-4b56-ba2f-68588d629051",
   "metadata": {},
   "source": [
    "##### Exercise 7 - Make a list that contains fruits that have less than 5 characters"
   ]
  },
  {
   "cell_type": "code",
   "execution_count": 223,
   "id": "953f426f-7ec9-4dab-8073-75ed13f99b4d",
   "metadata": {},
   "outputs": [
    {
     "data": {
      "text/plain": [
       "['kiwi']"
      ]
     },
     "execution_count": 223,
     "metadata": {},
     "output_type": "execute_result"
    }
   ],
   "source": [
    "fruits[fruits.str.len() < 5].tolist()"
   ]
  },
  {
   "cell_type": "markdown",
   "id": "fe6622ac-5db3-4d3c-8076-efaec608afbf",
   "metadata": {},
   "source": [
    "##### Exercise 8 - Make a list containing the number of characters in each fruit. Output would be [5, 4, 10, etc... ]"
   ]
  },
  {
   "cell_type": "code",
   "execution_count": 224,
   "id": "91d53a95-293d-41ab-ba81-54371095de0e",
   "metadata": {},
   "outputs": [
    {
     "data": {
      "text/plain": [
       "[5, 4, 10, 5, 9, 15]"
      ]
     },
     "execution_count": 224,
     "metadata": {},
     "output_type": "execute_result"
    }
   ],
   "source": [
    "fruits.str.len().tolist()"
   ]
  },
  {
   "cell_type": "markdown",
   "id": "e94293c2-46a9-4715-bc7e-e162cee70c24",
   "metadata": {},
   "source": [
    "##### Exercise 9 - Make a variable named fruits_with_letter_a that contains a list of only the fruits that contain the letter \"a\""
   ]
  },
  {
   "cell_type": "code",
   "execution_count": 225,
   "id": "ddf84422-557e-4688-8ea9-e4c0875dfc9d",
   "metadata": {},
   "outputs": [
    {
     "data": {
      "text/plain": [
       "['mango', 'strawberry', 'guava', 'pineapple', 'mandarin orange']"
      ]
     },
     "execution_count": 225,
     "metadata": {},
     "output_type": "execute_result"
    }
   ],
   "source": [
    "fruits[fruits.str.contains('a')].tolist()"
   ]
  },
  {
   "cell_type": "markdown",
   "id": "e943b8f4-cd4d-4a6b-96db-a7f49e8b514f",
   "metadata": {},
   "source": [
    "##### Exercise 10 - Make a variable named even_numbers that holds only the even numbers "
   ]
  },
  {
   "cell_type": "code",
   "execution_count": 226,
   "id": "f4d3e085-bb07-4bd0-b1ba-a20895f123d6",
   "metadata": {},
   "outputs": [
    {
     "data": {
      "text/plain": [
       "[2, 4, 6, 8, 10, 256, -8, -4, -2]"
      ]
     },
     "execution_count": 226,
     "metadata": {},
     "output_type": "execute_result"
    }
   ],
   "source": [
    "numbers[numbers%2 == 0].tolist()"
   ]
  },
  {
   "cell_type": "markdown",
   "id": "523db764-3a3c-415e-8096-703353dde3bd",
   "metadata": {},
   "source": [
    "##### Exercise 11 - Make a variable named odd_numbers that holds only the odd numbers"
   ]
  },
  {
   "cell_type": "code",
   "execution_count": 227,
   "id": "be26c536-5e68-4759-be5e-c54bb79cc34e",
   "metadata": {},
   "outputs": [
    {
     "data": {
      "text/plain": [
       "[3, 5, 7, 9, 11, 13, 17, 19, 23, 5, -9]"
      ]
     },
     "execution_count": 227,
     "metadata": {},
     "output_type": "execute_result"
    }
   ],
   "source": [
    "numbers[numbers%2 == 1].tolist()"
   ]
  },
  {
   "cell_type": "markdown",
   "id": "eb02dc7b-aec9-46df-87c4-3662d914a5ee",
   "metadata": {},
   "source": [
    "##### Exercise 12 - Make a variable named positive_numbers that holds only the positive numbers"
   ]
  },
  {
   "cell_type": "code",
   "execution_count": 228,
   "id": "2fde595f-0dd5-4b85-a390-a6af89dddf18",
   "metadata": {},
   "outputs": [
    {
     "data": {
      "text/plain": [
       "[2, 3, 4, 5, 6, 7, 8, 9, 10, 11, 13, 17, 19, 23, 256, 5]"
      ]
     },
     "execution_count": 228,
     "metadata": {},
     "output_type": "execute_result"
    }
   ],
   "source": [
    "numbers[numbers > 0].tolist()"
   ]
  },
  {
   "cell_type": "markdown",
   "id": "ee0b432d-f308-4465-82c2-23e470fc0b61",
   "metadata": {},
   "source": [
    "##### Exercise 13 - Make a variable named negative_numbers that holds only the negative numbers"
   ]
  },
  {
   "cell_type": "code",
   "execution_count": 229,
   "id": "aa6bfdce-0644-4823-905d-af34c0211705",
   "metadata": {},
   "outputs": [
    {
     "data": {
      "text/plain": [
       "[-8, -4, -2, -9]"
      ]
     },
     "execution_count": 229,
     "metadata": {},
     "output_type": "execute_result"
    }
   ],
   "source": [
    "numbers[numbers < 0].tolist()"
   ]
  },
  {
   "cell_type": "markdown",
   "id": "2b6522af-5ca2-4e5f-94c6-13d0ebbcc28f",
   "metadata": {},
   "source": [
    "##### Exercise 14 - use a list comprehension w/ a conditional in order to produce a list of numbers with 2 or more numerals"
   ]
  },
  {
   "cell_type": "code",
   "execution_count": 230,
   "id": "bd2bc2e1-1f94-42de-a633-0dd874cb9bc3",
   "metadata": {},
   "outputs": [
    {
     "data": {
      "text/plain": [
       "[10, 11, 13, 17, 19, 23, 256]"
      ]
     },
     "execution_count": 230,
     "metadata": {},
     "output_type": "execute_result"
    }
   ],
   "source": [
    "numbers[(numbers >=10) | (numbers <= -10)].tolist()"
   ]
  },
  {
   "cell_type": "markdown",
   "id": "15537713-f8b6-4ad0-a1a0-b71ca10cf6d3",
   "metadata": {},
   "source": [
    "##### Exercise 15 - Make a variable named numbers_squared that contains the numbers list with each element squared. Output is [4, 9, 16, etc...]"
   ]
  },
  {
   "cell_type": "code",
   "execution_count": 231,
   "id": "0a281082-36cc-4389-92ea-1541d18c4377",
   "metadata": {},
   "outputs": [
    {
     "data": {
      "text/plain": [
       "[4,\n",
       " 9,\n",
       " 16,\n",
       " 25,\n",
       " 36,\n",
       " 49,\n",
       " 64,\n",
       " 81,\n",
       " 100,\n",
       " 121,\n",
       " 169,\n",
       " 289,\n",
       " 361,\n",
       " 529,\n",
       " 65536,\n",
       " 64,\n",
       " 16,\n",
       " 4,\n",
       " 25,\n",
       " 81]"
      ]
     },
     "execution_count": 231,
     "metadata": {},
     "output_type": "execute_result"
    }
   ],
   "source": [
    "(numbers**2).tolist()"
   ]
  },
  {
   "cell_type": "markdown",
   "id": "c2496b6f-feae-454d-9a4b-eb83a51c1a59",
   "metadata": {},
   "source": [
    "##### Exercise 16 - Make a variable named odd_negative_numbers that contains only the numbers that are both odd and negative."
   ]
  },
  {
   "cell_type": "code",
   "execution_count": 232,
   "id": "d28694b0-5301-4ec5-a455-a6c0fa3aeeab",
   "metadata": {},
   "outputs": [
    {
     "data": {
      "text/plain": [
       "[-9]"
      ]
     },
     "execution_count": 232,
     "metadata": {},
     "output_type": "execute_result"
    }
   ],
   "source": [
    "numbers[(numbers < 0) & (numbers % 2 == 1)].tolist()"
   ]
  },
  {
   "cell_type": "markdown",
   "id": "be6c6c27-c8c2-47a9-808e-9e28ffa18444",
   "metadata": {},
   "source": [
    "##### Exercise 17 - Make a variable named numbers_plus_5. In it, return a list containing each number plus five. "
   ]
  },
  {
   "cell_type": "code",
   "execution_count": 233,
   "id": "4deea456-9ccd-45b0-b54d-3ec2c2737989",
   "metadata": {},
   "outputs": [
    {
     "data": {
      "text/plain": [
       "[7, 8, 9, 10, 11, 12, 13, 14, 15, 16, 18, 22, 24, 28, 261, -3, 1, 3, 10, -4]"
      ]
     },
     "execution_count": 233,
     "metadata": {},
     "output_type": "execute_result"
    }
   ],
   "source": [
    "(numbers + 5).tolist()"
   ]
  },
  {
   "cell_type": "markdown",
   "id": "1f791a07-9431-4c94-a090-9875c1682919",
   "metadata": {
    "tags": []
   },
   "source": [
    "##### BONUS Make a variable named \"primes\" that is a list containing the prime numbers in the numbers list. *Hint* you may want to make or find a helper function that determines if a given number is prime or not."
   ]
  },
  {
   "cell_type": "code",
   "execution_count": 234,
   "id": "2641a279-22f2-4588-9190-2789b4b66e04",
   "metadata": {},
   "outputs": [],
   "source": [
    "numbers = numbers.astype('int')"
   ]
  },
  {
   "cell_type": "code",
   "execution_count": 235,
   "id": "188fe45d-4e48-4c56-9512-5bd73c2b7dd3",
   "metadata": {},
   "outputs": [
    {
     "data": {
      "text/plain": [
       "[2, 3, 5, 7, 11, 13, 17, 19, 23, -2, 5]"
      ]
     },
     "execution_count": 235,
     "metadata": {},
     "output_type": "execute_result"
    }
   ],
   "source": [
    "numbers[numbers.apply(is_prime)].tolist()"
   ]
  },
  {
   "cell_type": "code",
   "execution_count": null,
   "id": "bb8be4b9-a1a0-4978-be1f-d4b0ea10c14b",
   "metadata": {},
   "outputs": [],
   "source": []
  }
 ],
 "metadata": {
  "kernelspec": {
   "display_name": "Python 3 (ipykernel)",
   "language": "python",
   "name": "python3"
  },
  "language_info": {
   "codemirror_mode": {
    "name": "ipython",
    "version": 3
   },
   "file_extension": ".py",
   "mimetype": "text/x-python",
   "name": "python",
   "nbconvert_exporter": "python",
   "pygments_lexer": "ipython3",
   "version": "3.9.12"
  }
 },
 "nbformat": 4,
 "nbformat_minor": 5
}
