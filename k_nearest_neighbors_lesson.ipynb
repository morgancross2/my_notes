{
 "cells": [
  {
   "cell_type": "markdown",
   "id": "9163bb59",
   "metadata": {},
   "source": [
    "# KNN\n",
    "\n",
    "### What is KNN?\n",
    "\n",
    "- Supervised Algorithm\n",
    "- Makes predictions based on how close a new data point is to known data points.\n",
    "- Lazy\n",
    "- Sensitive to scaling\n",
    "\n",
    "Link: [KNN Diagram](https://cambridgecoding.files.wordpress.com/2016/01/knn2.jpg)\n",
    "\n",
    "#### Pros:\n",
    "1. Simple\n",
    "2. Robust to noise\n",
    "3. Effective with large datasets\n",
    "4. Performs calculations \"just in time\"\n",
    "5. Data is easy to keep up to date to keep predictions accurate\n",
    "\n",
    "#### Cons:\n",
    "1. Need to determine how many neighbors is optimal\n",
    "2. Computation cost is high (has to calculate every single distance to every feature)\n",
    "3. Euclidean volume increases exponentially as number of features increases (curse of dimensionality)"
   ]
  },
  {
   "cell_type": "code",
   "execution_count": 1,
   "id": "e872ae33",
   "metadata": {},
   "outputs": [],
   "source": [
    "# Quiet my warnings for the sake of the lesson:\n",
    "import warnings\n",
    "warnings.filterwarnings(\"ignore\")\n",
    "\n",
    "# Tabular data friends:\n",
    "import pandas as pd\n",
    "import numpy as np\n",
    "\n",
    "# Data viz:\n",
    "import matplotlib.pyplot as plt\n",
    "import seaborn as sns\n",
    "\n",
    "# Sklearn stuff:\n",
    "from sklearn.model_selection import train_test_split\n",
    "from sklearn.neighbors import KNeighborsClassifier\n",
    "from sklearn.metrics import classification_report, confusion_matrix, plot_confusion_matrix\n",
    "\n",
    "# Data acquisition\n",
    "from pydataset import data"
   ]
  },
  {
   "cell_type": "markdown",
   "id": "eb0c04b9",
   "metadata": {},
   "source": [
    "## Acquire (Iris Dataset)"
   ]
  },
  {
   "cell_type": "code",
   "execution_count": 2,
   "id": "5a3a492b",
   "metadata": {},
   "outputs": [
    {
     "data": {
      "text/html": [
       "<div>\n",
       "<style scoped>\n",
       "    .dataframe tbody tr th:only-of-type {\n",
       "        vertical-align: middle;\n",
       "    }\n",
       "\n",
       "    .dataframe tbody tr th {\n",
       "        vertical-align: top;\n",
       "    }\n",
       "\n",
       "    .dataframe thead th {\n",
       "        text-align: right;\n",
       "    }\n",
       "</style>\n",
       "<table border=\"1\" class=\"dataframe\">\n",
       "  <thead>\n",
       "    <tr style=\"text-align: right;\">\n",
       "      <th></th>\n",
       "      <th>sepal_length</th>\n",
       "      <th>sepal_width</th>\n",
       "      <th>petal_length</th>\n",
       "      <th>petal_width</th>\n",
       "      <th>species</th>\n",
       "    </tr>\n",
       "  </thead>\n",
       "  <tbody>\n",
       "    <tr>\n",
       "      <th>1</th>\n",
       "      <td>5.1</td>\n",
       "      <td>3.5</td>\n",
       "      <td>1.4</td>\n",
       "      <td>0.2</td>\n",
       "      <td>setosa</td>\n",
       "    </tr>\n",
       "    <tr>\n",
       "      <th>2</th>\n",
       "      <td>4.9</td>\n",
       "      <td>3.0</td>\n",
       "      <td>1.4</td>\n",
       "      <td>0.2</td>\n",
       "      <td>setosa</td>\n",
       "    </tr>\n",
       "    <tr>\n",
       "      <th>3</th>\n",
       "      <td>4.7</td>\n",
       "      <td>3.2</td>\n",
       "      <td>1.3</td>\n",
       "      <td>0.2</td>\n",
       "      <td>setosa</td>\n",
       "    </tr>\n",
       "    <tr>\n",
       "      <th>4</th>\n",
       "      <td>4.6</td>\n",
       "      <td>3.1</td>\n",
       "      <td>1.5</td>\n",
       "      <td>0.2</td>\n",
       "      <td>setosa</td>\n",
       "    </tr>\n",
       "    <tr>\n",
       "      <th>5</th>\n",
       "      <td>5.0</td>\n",
       "      <td>3.6</td>\n",
       "      <td>1.4</td>\n",
       "      <td>0.2</td>\n",
       "      <td>setosa</td>\n",
       "    </tr>\n",
       "  </tbody>\n",
       "</table>\n",
       "</div>"
      ],
      "text/plain": [
       "   sepal_length  sepal_width  petal_length  petal_width species\n",
       "1           5.1          3.5           1.4          0.2  setosa\n",
       "2           4.9          3.0           1.4          0.2  setosa\n",
       "3           4.7          3.2           1.3          0.2  setosa\n",
       "4           4.6          3.1           1.5          0.2  setosa\n",
       "5           5.0          3.6           1.4          0.2  setosa"
      ]
     },
     "execution_count": 2,
     "metadata": {},
     "output_type": "execute_result"
    }
   ],
   "source": [
    "# read Iris data from pydatset\n",
    "df = data('iris')\n",
    "\n",
    "# convert column names to lowercase, replace '.' in column names with '_'\n",
    "df.columns = [col.lower().replace('.', '_') for col in df]\n",
    "\n",
    "df.head()"
   ]
  },
  {
   "cell_type": "markdown",
   "id": "12ceb089",
   "metadata": {},
   "source": [
    "## Prepare/Preprocessing"
   ]
  },
  {
   "cell_type": "code",
   "execution_count": 3,
   "id": "33390c1a",
   "metadata": {},
   "outputs": [],
   "source": [
    "# split into train, validate, test\n",
    "train, test = train_test_split(df, stratify=df['species'], train_size=0.8, random_state=1349)\n",
    "train, validate = train_test_split(train, stratify=train['species'], train_size=0.7, random_state=1349)\n",
    "\n",
    "# create X & y version of train/validate/test\n",
    "# where X contains the features we want to use and y is a series with just the target variable\n",
    "\n",
    "X_train = train.drop(columns=['species', 'petal_length', 'petal_width'])\n",
    "y_train = train.species\n",
    "\n",
    "X_validate = validate.drop(columns=['species', 'petal_length', 'petal_width'])\n",
    "y_validate = validate.species\n",
    "\n",
    "X_test = test.drop(columns=['species', 'petal_length', 'petal_width'])\n",
    "y_test = test.species"
   ]
  },
  {
   "cell_type": "code",
   "execution_count": 9,
   "id": "e804ab8e-bf5b-495d-82a3-7b40f2b3f7eb",
   "metadata": {},
   "outputs": [
    {
     "data": {
      "text/plain": [
       "<AxesSubplot:xlabel='sepal_length', ylabel='sepal_width'>"
      ]
     },
     "execution_count": 9,
     "metadata": {},
     "output_type": "execute_result"
    },
    {
     "data": {
      "image/png": "[encoded data removed]",
      "text/plain": [
       "<Figure size 432x288 with 1 Axes>"
      ]
     },
     "metadata": {
      "needs_background": "light"
     },
     "output_type": "display_data"
    }
   ],
   "source": [
    "sns.scatterplot(data=train, x='sepal_length', y='sepal_width', hue='species')"
   ]
  },
  {
   "cell_type": "markdown",
   "id": "d165a2cb",
   "metadata": {
    "tags": []
   },
   "source": [
    "## Train Model\n",
    "\n",
    "#### Create KNN Object"
   ]
  },
  {
   "cell_type": "code",
   "execution_count": 10,
   "id": "bf08ef82",
   "metadata": {},
   "outputs": [],
   "source": [
    "knn = KNeighborsClassifier(n_neighbors=1, weights='uniform')"
   ]
  },
  {
   "cell_type": "markdown",
   "id": "ec61bcf1",
   "metadata": {},
   "source": [
    "#### Fit the Model to the Training Data"
   ]
  },
  {
   "cell_type": "code",
   "execution_count": 11,
   "id": "2d5354fb",
   "metadata": {},
   "outputs": [
    {
     "data": {
      "text/plain": [
       "KNeighborsClassifier(n_neighbors=1)"
      ]
     },
     "execution_count": 11,
     "metadata": {},
     "output_type": "execute_result"
    }
   ],
   "source": [
    "knn.fit(X_train, y_train)"
   ]
  },
  {
   "cell_type": "markdown",
   "id": "a8dfbcc8",
   "metadata": {},
   "source": [
    "#### Make Predictions"
   ]
  },
  {
   "cell_type": "code",
   "execution_count": 13,
   "id": "d76be200",
   "metadata": {},
   "outputs": [
    {
     "data": {
      "text/plain": [
       "array(['virginica', 'setosa', 'versicolor', 'versicolor', 'versicolor',\n",
       "       'versicolor', 'versicolor', 'setosa', 'versicolor', 'setosa',\n",
       "       'setosa', 'setosa', 'virginica', 'setosa', 'virginica',\n",
       "       'virginica', 'versicolor', 'virginica', 'versicolor', 'versicolor',\n",
       "       'setosa', 'versicolor', 'setosa', 'virginica', 'versicolor',\n",
       "       'setosa', 'virginica', 'setosa', 'virginica', 'setosa',\n",
       "       'versicolor', 'virginica', 'setosa', 'setosa', 'versicolor',\n",
       "       'setosa', 'virginica', 'versicolor', 'versicolor', 'virginica',\n",
       "       'versicolor', 'virginica', 'versicolor', 'setosa', 'virginica',\n",
       "       'virginica', 'setosa', 'versicolor', 'virginica', 'virginica',\n",
       "       'virginica', 'setosa', 'setosa', 'setosa', 'virginica',\n",
       "       'versicolor', 'virginica', 'setosa', 'versicolor', 'versicolor',\n",
       "       'setosa', 'virginica', 'versicolor', 'virginica', 'setosa',\n",
       "       'virginica', 'virginica', 'setosa', 'virginica', 'setosa',\n",
       "       'versicolor', 'versicolor', 'setosa', 'versicolor', 'virginica',\n",
       "       'setosa', 'setosa', 'virginica', 'setosa', 'versicolor',\n",
       "       'versicolor', 'versicolor', 'virginica', 'versicolor'],\n",
       "      dtype=object)"
      ]
     },
     "execution_count": 13,
     "metadata": {},
     "output_type": "execute_result"
    }
   ],
   "source": [
    "y_pred = knn.predict(X_train)\n",
    "y_pred"
   ]
  },
  {
   "cell_type": "markdown",
   "id": "ec4c70e5",
   "metadata": {},
   "source": [
    "#### Estimate Probability"
   ]
  },
  {
   "cell_type": "code",
   "execution_count": 15,
   "id": "e7d1fee1",
   "metadata": {},
   "outputs": [
    {
     "data": {
      "text/plain": [
       "array([[0., 0., 1.],\n",
       "       [1., 0., 0.],\n",
       "       [0., 1., 0.],\n",
       "       [0., 1., 0.],\n",
       "       [0., 1., 0.]])"
      ]
     },
     "execution_count": 15,
     "metadata": {},
     "output_type": "execute_result"
    }
   ],
   "source": [
    "y_pred_proba = knn.predict_proba(X_train)\n",
    "y_pred_proba[:5]"
   ]
  },
  {
   "cell_type": "markdown",
   "id": "913df819",
   "metadata": {},
   "source": [
    "## Evaluate Model"
   ]
  },
  {
   "cell_type": "markdown",
   "id": "95e3bdf1",
   "metadata": {},
   "source": [
    "#### Compute the Accuracy"
   ]
  },
  {
   "cell_type": "code",
   "execution_count": 16,
   "id": "b1b7c632",
   "metadata": {},
   "outputs": [
    {
     "data": {
      "text/html": [
       "<div>\n",
       "<style scoped>\n",
       "    .dataframe tbody tr th:only-of-type {\n",
       "        vertical-align: middle;\n",
       "    }\n",
       "\n",
       "    .dataframe tbody tr th {\n",
       "        vertical-align: top;\n",
       "    }\n",
       "\n",
       "    .dataframe thead th {\n",
       "        text-align: right;\n",
       "    }\n",
       "</style>\n",
       "<table border=\"1\" class=\"dataframe\">\n",
       "  <thead>\n",
       "    <tr style=\"text-align: right;\">\n",
       "      <th>col_0</th>\n",
       "      <th>setosa</th>\n",
       "      <th>versicolor</th>\n",
       "      <th>virginica</th>\n",
       "    </tr>\n",
       "    <tr>\n",
       "      <th>species</th>\n",
       "      <th></th>\n",
       "      <th></th>\n",
       "      <th></th>\n",
       "    </tr>\n",
       "  </thead>\n",
       "  <tbody>\n",
       "    <tr>\n",
       "      <th>setosa</th>\n",
       "      <td>28</td>\n",
       "      <td>0</td>\n",
       "      <td>0</td>\n",
       "    </tr>\n",
       "    <tr>\n",
       "      <th>versicolor</th>\n",
       "      <td>0</td>\n",
       "      <td>26</td>\n",
       "      <td>2</td>\n",
       "    </tr>\n",
       "    <tr>\n",
       "      <th>virginica</th>\n",
       "      <td>0</td>\n",
       "      <td>3</td>\n",
       "      <td>25</td>\n",
       "    </tr>\n",
       "  </tbody>\n",
       "</table>\n",
       "</div>"
      ],
      "text/plain": [
       "col_0       setosa  versicolor  virginica\n",
       "species                                  \n",
       "setosa          28           0          0\n",
       "versicolor       0          26          2\n",
       "virginica        0           3         25"
      ]
     },
     "execution_count": 16,
     "metadata": {},
     "output_type": "execute_result"
    }
   ],
   "source": [
    "pd.crosstab(y_train, y_pred)"
   ]
  },
  {
   "cell_type": "markdown",
   "id": "ad07d2dc",
   "metadata": {},
   "source": [
    "#### Create a Classification Report"
   ]
  },
  {
   "cell_type": "code",
   "execution_count": 21,
   "id": "d10c79f8",
   "metadata": {},
   "outputs": [
    {
     "name": "stdout",
     "output_type": "stream",
     "text": [
      "              precision    recall  f1-score   support\n",
      "\n",
      "      setosa       1.00      1.00      1.00        28\n",
      "  versicolor       0.90      0.93      0.91        28\n",
      "   virginica       0.93      0.89      0.91        28\n",
      "\n",
      "    accuracy                           0.94        84\n",
      "   macro avg       0.94      0.94      0.94        84\n",
      "weighted avg       0.94      0.94      0.94        84\n",
      "\n"
     ]
    }
   ],
   "source": [
    "print(classification_report(y_train, y_pred))"
   ]
  },
  {
   "cell_type": "markdown",
   "id": "06634c05",
   "metadata": {},
   "source": [
    "## Lets Do it Again"
   ]
  },
  {
   "cell_type": "code",
   "execution_count": 22,
   "id": "d3d35707",
   "metadata": {},
   "outputs": [],
   "source": [
    "# Create KNN Object\n",
    "knn1 = KNeighborsClassifier(n_neighbors=5, weights='uniform')\n",
    "# Fit object to training data\n",
    "knn1.fit(X_train, y_train)\n",
    "# Make predictions on training data\n",
    "y_pred1 = knn1.predict(X_train)"
   ]
  },
  {
   "cell_type": "markdown",
   "id": "e54930e4",
   "metadata": {},
   "source": [
    "How does the boundary map for **k = 5** compared to **k = 1**?"
   ]
  },
  {
   "cell_type": "code",
   "execution_count": 23,
   "id": "185184e9",
   "metadata": {},
   "outputs": [
    {
     "name": "stdout",
     "output_type": "stream",
     "text": [
      "              precision    recall  f1-score   support\n",
      "\n",
      "      setosa       1.00      0.96      0.98        28\n",
      "  versicolor       0.78      0.75      0.76        28\n",
      "   virginica       0.77      0.82      0.79        28\n",
      "\n",
      "    accuracy                           0.85        84\n",
      "   macro avg       0.85      0.85      0.85        84\n",
      "weighted avg       0.85      0.85      0.85        84\n",
      "\n"
     ]
    }
   ],
   "source": [
    "# Evaluate the new model\n",
    "print(classification_report(y_train, y_pred1))\n"
   ]
  },
  {
   "cell_type": "code",
   "execution_count": 26,
   "id": "fd114bc6-d164-430e-a4bc-c018ab10f7f4",
   "metadata": {},
   "outputs": [],
   "source": [
    "# check validation of each knn and knn1"
   ]
  },
  {
   "cell_type": "code",
   "execution_count": 24,
   "id": "c379a857",
   "metadata": {},
   "outputs": [
    {
     "name": "stdout",
     "output_type": "stream",
     "text": [
      "              precision    recall  f1-score   support\n",
      "\n",
      "      setosa       1.00      1.00      1.00        12\n",
      "  versicolor       0.62      0.67      0.64        12\n",
      "   virginica       0.64      0.58      0.61        12\n",
      "\n",
      "    accuracy                           0.75        36\n",
      "   macro avg       0.75      0.75      0.75        36\n",
      "weighted avg       0.75      0.75      0.75        36\n",
      "\n"
     ]
    }
   ],
   "source": [
    "print(classification_report(y_validate, knn.predict(X_validate)))"
   ]
  },
  {
   "cell_type": "code",
   "execution_count": 25,
   "id": "541ee2b5-13b3-4e56-8cb8-1145106aba1a",
   "metadata": {},
   "outputs": [
    {
     "name": "stdout",
     "output_type": "stream",
     "text": [
      "              precision    recall  f1-score   support\n",
      "\n",
      "      setosa       1.00      1.00      1.00        12\n",
      "  versicolor       0.62      0.67      0.64        12\n",
      "   virginica       0.64      0.58      0.61        12\n",
      "\n",
      "    accuracy                           0.75        36\n",
      "   macro avg       0.75      0.75      0.75        36\n",
      "weighted avg       0.75      0.75      0.75        36\n",
      "\n"
     ]
    }
   ],
   "source": [
    "print(classification_report(y_validate, knn.predict(X_validate)))"
   ]
  },
  {
   "cell_type": "markdown",
   "id": "6bc403b0",
   "metadata": {},
   "source": [
    "## Finding the Best value for k"
   ]
  },
  {
   "cell_type": "code",
   "execution_count": 29,
   "id": "efa0db40",
   "metadata": {},
   "outputs": [
    {
     "name": "stdout",
     "output_type": "stream",
     "text": [
      "              precision    recall  f1-score   support\n",
      "\n",
      "      setosa       1.00      1.00      1.00        28\n",
      "  versicolor       0.90      0.93      0.91        28\n",
      "   virginica       0.93      0.89      0.91        28\n",
      "\n",
      "    accuracy                           0.94        84\n",
      "   macro avg       0.94      0.94      0.94        84\n",
      "weighted avg       0.94      0.94      0.94        84\n",
      "\n",
      "              precision    recall  f1-score   support\n",
      "\n",
      "      setosa       1.00      1.00      1.00        28\n",
      "  versicolor       0.76      1.00      0.86        28\n",
      "   virginica       1.00      0.68      0.81        28\n",
      "\n",
      "    accuracy                           0.89        84\n",
      "   macro avg       0.92      0.89      0.89        84\n",
      "weighted avg       0.92      0.89      0.89        84\n",
      "\n",
      "              precision    recall  f1-score   support\n",
      "\n",
      "      setosa       1.00      0.96      0.98        28\n",
      "  versicolor       0.83      0.71      0.77        28\n",
      "   virginica       0.76      0.89      0.82        28\n",
      "\n",
      "    accuracy                           0.86        84\n",
      "   macro avg       0.86      0.86      0.86        84\n",
      "weighted avg       0.86      0.86      0.86        84\n",
      "\n",
      "              precision    recall  f1-score   support\n",
      "\n",
      "      setosa       1.00      1.00      1.00        28\n",
      "  versicolor       0.77      0.86      0.81        28\n",
      "   virginica       0.84      0.75      0.79        28\n",
      "\n",
      "    accuracy                           0.87        84\n",
      "   macro avg       0.87      0.87      0.87        84\n",
      "weighted avg       0.87      0.87      0.87        84\n",
      "\n",
      "              precision    recall  f1-score   support\n",
      "\n",
      "      setosa       1.00      0.96      0.98        28\n",
      "  versicolor       0.78      0.75      0.76        28\n",
      "   virginica       0.77      0.82      0.79        28\n",
      "\n",
      "    accuracy                           0.85        84\n",
      "   macro avg       0.85      0.85      0.85        84\n",
      "weighted avg       0.85      0.85      0.85        84\n",
      "\n",
      "              precision    recall  f1-score   support\n",
      "\n",
      "      setosa       1.00      1.00      1.00        28\n",
      "  versicolor       0.80      0.86      0.83        28\n",
      "   virginica       0.85      0.79      0.81        28\n",
      "\n",
      "    accuracy                           0.88        84\n",
      "   macro avg       0.88      0.88      0.88        84\n",
      "weighted avg       0.88      0.88      0.88        84\n",
      "\n",
      "              precision    recall  f1-score   support\n",
      "\n",
      "      setosa       1.00      1.00      1.00        28\n",
      "  versicolor       0.80      0.71      0.75        28\n",
      "   virginica       0.74      0.82      0.78        28\n",
      "\n",
      "    accuracy                           0.85        84\n",
      "   macro avg       0.85      0.85      0.84        84\n",
      "weighted avg       0.85      0.85      0.84        84\n",
      "\n",
      "              precision    recall  f1-score   support\n",
      "\n",
      "      setosa       1.00      1.00      1.00        28\n",
      "  versicolor       0.80      0.86      0.83        28\n",
      "   virginica       0.85      0.79      0.81        28\n",
      "\n",
      "    accuracy                           0.88        84\n",
      "   macro avg       0.88      0.88      0.88        84\n",
      "weighted avg       0.88      0.88      0.88        84\n",
      "\n",
      "              precision    recall  f1-score   support\n",
      "\n",
      "      setosa       1.00      1.00      1.00        28\n",
      "  versicolor       0.81      0.75      0.78        28\n",
      "   virginica       0.77      0.82      0.79        28\n",
      "\n",
      "    accuracy                           0.86        84\n",
      "   macro avg       0.86      0.86      0.86        84\n",
      "weighted avg       0.86      0.86      0.86        84\n",
      "\n"
     ]
    }
   ],
   "source": [
    "model_set = []\n",
    "for i in range(1,10):\n",
    "    knn = KNeighborsClassifier(n_neighbors=i)\n",
    "    knn.fit(X_train, y_train)\n",
    "    model_set.append(knn)\n",
    "    \n",
    "    \n",
    "for spot in model_set:\n",
    "    print(classification_report(y_train, spot.predict(X_train)))"
   ]
  },
  {
   "cell_type": "markdown",
   "id": "362c0ec7",
   "metadata": {},
   "source": [
    "## Next Steps\n",
    "- We only used sepal_length and sepal_width. We can try new models with different and/or additional features. \n",
    "\n",
    "\n",
    "- There are other hyperparameters we can tweak\n",
    "    - 'weights': Uniform is the default (all points are treated equally), but we can switch to a 'distance' approach where nearer neighbors are given more weight in the voting process\n",
    "    - 'algorithm': Large datasets use a sampling algorithm to save on computational cost. We can try different samplers. \n",
    "    - 'metric': There is more than one way to measure distance\n",
    "\n",
    "\n",
    "- There are very similar models that we can try (RadiusNeighborsClassifier)"
   ]
  },
  {
   "cell_type": "code",
   "execution_count": null,
   "id": "114f218e",
   "metadata": {},
   "outputs": [],
   "source": []
  }
 ],
 "metadata": {
  "kernelspec": {
   "display_name": "Python 3 (ipykernel)",
   "language": "python",
   "name": "python3"
  },
  "language_info": {
   "codemirror_mode": {
    "name": "ipython",
    "version": 3
   },
   "file_extension": ".py",
   "mimetype": "text/x-python",
   "name": "python",
   "nbconvert_exporter": "python",
   "pygments_lexer": "ipython3",
   "version": "3.9.12"
  }
 },
 "nbformat": 4,
 "nbformat_minor": 5
}
